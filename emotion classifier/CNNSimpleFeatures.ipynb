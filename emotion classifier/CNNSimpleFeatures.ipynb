{
 "cells": [
  {
   "cell_type": "code",
   "execution_count": null,
   "id": "19376d9a-e4f4-41c6-84f8-3bb646d7942a",
   "metadata": {},
   "outputs": [],
   "source": [
    "import numpy as np\n",
    "import pandas as pd\n",
    "import matplotlib.pyplot as plt\n",
    "from sklearn import svm\n",
    "from sklearn.model_selection import KFold"
   ]
  },
  {
   "cell_type": "code",
   "execution_count": null,
   "id": "ca35a0bf-91ce-483b-a855-ea26191b9a86",
   "metadata": {},
   "outputs": [],
   "source": [
    "# Data import\n",
    "genres = [\"classical\", \"electronic\", \"pop\", \"rock\"]\n",
    "\n",
    "ZC = np.load('../preprocessing/zeroCrossings_frame200ms_hop100ms.npy')\n",
    "SC = np.load('../preprocessing/spectralCentroid_frame200ms_hop100ms.npy')\n",
    "SV = np.load('../preprocessing/spectralVariance_frame200ms_hop100ms.npy')"
   ]
  },
  {
   "cell_type": "code",
   "execution_count": null,
   "id": "2512177a-4b5d-4fa0-b19f-eef71a68bd19",
   "metadata": {},
   "outputs": [],
   "source": [
    "print(\"Shape ZC\", np.shape(ZC))\n",
    "print(\"Shape SC\", np.shape(SC))\n",
    "print(\"Shape SV\", np.shape(SV))"
   ]
  },
  {
   "cell_type": "code",
   "execution_count": null,
   "id": "4c15b257-7985-4f32-8a51-c55ed693c736",
   "metadata": {},
   "outputs": [],
   "source": [
    "ZC = (ZC - np.nanmean(ZC)) / np.nanstd(ZC)\n",
    "SC = (SC - np.nanmean(SC)) / np.nanstd(SC)\n",
    "SV = (SV - np.nanmean(SV)) / np.nanstd(SV)\n",
    "\n",
    "features = np.stack((ZC, SC, SV), axis=1)\n",
    "print(np.shape(features))"
   ]
  },
  {
   "cell_type": "code",
   "execution_count": null,
   "id": "31c42020-bc11-4250-8278-5321e9b91dae",
   "metadata": {},
   "outputs": [],
   "source": []
  }
 ],
 "metadata": {
  "kernelspec": {
   "display_name": "tensorflow",
   "language": "python",
   "name": "tensorflow"
  },
  "language_info": {
   "codemirror_mode": {
    "name": "ipython",
    "version": 3
   },
   "file_extension": ".py",
   "mimetype": "text/x-python",
   "name": "python",
   "nbconvert_exporter": "python",
   "pygments_lexer": "ipython3",
   "version": "3.6.13"
  }
 },
 "nbformat": 4,
 "nbformat_minor": 5
}
