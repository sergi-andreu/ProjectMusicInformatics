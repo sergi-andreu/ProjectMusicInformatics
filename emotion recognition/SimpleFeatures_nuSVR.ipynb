{
 "cells": [
  {
   "cell_type": "markdown",
   "id": "73946ffd",
   "metadata": {
    "id": "73946ffd"
   },
   "source": [
    "## $\\nu$-Support Vector Regression for emotion, based on 4 simple features\n",
    "\n"
   ]
  },
  {
   "cell_type": "markdown",
   "id": "f0b2feab",
   "metadata": {},
   "source": [
    "Tried to train the regressor on a single emotion (nostalgia) in Google Colab but no result after >15h of training. Since you do not have an indication of how long training will take it was terminated."
   ]
  },
  {
   "cell_type": "code",
   "execution_count": 1,
   "id": "c10ab61e",
   "metadata": {
    "executionInfo": {
     "elapsed": 799,
     "status": "ok",
     "timestamp": 1635347501139,
     "user": {
      "displayName": "Carsten van de Kamp",
      "photoUrl": "https://lh3.googleusercontent.com/a/default-user=s64",
      "userId": "09359761263260079670"
     },
     "user_tz": -120
    },
    "id": "c10ab61e"
   },
   "outputs": [],
   "source": [
    "import numpy as np\n",
    "import pandas as pd\n",
    "import matplotlib.pyplot as plt\n",
    "from sklearn import svm\n",
    "import copy"
   ]
  },
  {
   "cell_type": "code",
   "execution_count": 2,
   "id": "39d4a5b4",
   "metadata": {
    "executionInfo": {
     "elapsed": 16,
     "status": "ok",
     "timestamp": 1635347501141,
     "user": {
      "displayName": "Carsten van de Kamp",
      "photoUrl": "https://lh3.googleusercontent.com/a/default-user=s64",
      "userId": "09359761263260079670"
     },
     "user_tz": -120
    },
    "id": "39d4a5b4"
   },
   "outputs": [],
   "source": [
    "def StrechArrays(Listofarrays):\n",
    "    \"\"\"\n",
    "    Since we possibly use different window and hop sizes for computing the simple features we have arrays of different size. \n",
    "    For majority vote classification we need data arrays of same length\n",
    "    Since they all correspond to the same time axis, we can 'stretch' the array by repeating values\n",
    "    This function returns 'stretched' arrays with lenght equal to the length of the largest array.\n",
    "    \"\"\"\n",
    "    Nsongs = np.shape(Listofarrays[0])[0]\n",
    "    maxlength = 0\n",
    "    for array in Listofarrays:\n",
    "        if not array.ndim == 1:\n",
    "            maxlength = max(maxlength, np.shape(array)[1])\n",
    "    SOL = []\n",
    "    for array in Listofarrays:\n",
    "        length = np.shape(array)[1] if not array.ndim == 1 else 1\n",
    "        if not length == maxlength:\n",
    "            newarray = np.zeros((Nsongs, maxlength))\n",
    "            for song in range(Nsongs):\n",
    "                arr = []\n",
    "                for i in range(maxlength):\n",
    "                    arr.append(array[song, int(i*length/maxlength)]\n",
    "                               ) if not array.ndim == 1 else arr.append(array[song])\n",
    "                newarray[song, :] = np.array(arr)\n",
    "            assert np.shape(newarray) == (Nsongs, maxlength)\n",
    "            SOL.append(newarray)\n",
    "        else:\n",
    "            assert np.shape(array) == (Nsongs, maxlength)\n",
    "            SOL.append(array)\n",
    "    return SOL, int(maxlength)"
   ]
  },
  {
   "cell_type": "code",
   "execution_count": 4,
   "id": "2317d600",
   "metadata": {
    "executionInfo": {
     "elapsed": 16,
     "status": "ok",
     "timestamp": 1635347501144,
     "user": {
      "displayName": "Carsten van de Kamp",
      "photoUrl": "https://lh3.googleusercontent.com/a/default-user=s64",
      "userId": "09359761263260079670"
     },
     "user_tz": -120
    },
    "id": "2317d600"
   },
   "outputs": [],
   "source": [
    "def removeNaN(ZC, SC, SV, ST, labels):\n",
    "    \n",
    "    song_idx = [] # rows containing NaN\n",
    "    \n",
    "    for array in [ZC, SV, SC, ST]:\n",
    "        song_idx.extend(np.unique(np.argwhere(np.isnan(array))[:,0] ).tolist() )\n",
    "\n",
    "    ZC = np.delete(ZC, song_idx, axis=0)\n",
    "    SC = np.delete(SC, song_idx, axis=0)\n",
    "    SV = np.delete(SV, song_idx, axis=0)\n",
    "    ST = np.delete(ST, song_idx, axis=0)\n",
    "    labels = labels.drop(song_idx, axis=0)\n",
    "    labels = labels.reset_index(drop=True)\n",
    "\n",
    "    i=0\n",
    "    for array in [ZC, SV, SC, ST]:\n",
    "        assert not (np.isnan(array)).any().any(), f'NaN values in features not removed {i}'\n",
    "        i+=1\n",
    "        \n",
    "    return ZC, SC, SV, ST, labels\n"
   ]
  },
  {
   "cell_type": "code",
   "execution_count": 5,
   "id": "5a53a73e",
   "metadata": {
    "executionInfo": {
     "elapsed": 15,
     "status": "ok",
     "timestamp": 1635347501145,
     "user": {
      "displayName": "Carsten van de Kamp",
      "photoUrl": "https://lh3.googleusercontent.com/a/default-user=s64",
      "userId": "09359761263260079670"
     },
     "user_tz": -120
    },
    "id": "5a53a73e"
   },
   "outputs": [],
   "source": [
    "# def MajorityVote(test_prediction, N_data_per_song):\n",
    "#     number_test_songs = np.shape(test_prediction)[0] / N_data_per_song\n",
    "#     assert number_test_songs == 80  #temporary check\n",
    "\n",
    "#     p = np.reshape(test_prediction, (int(number_test_songs), int(N_data_per_song)))\n",
    "    \n",
    "#     MV = np.rint(np.mean(p, axis=1)) #take the mean per song and round to the nearest integer to take the majority vote\n",
    "    \n",
    "#     assert np.shape(MV) == (number_test_songs,)\n",
    "#     return MV"
   ]
  },
  {
   "cell_type": "code",
   "execution_count": 15,
   "id": "a9abdf53",
   "metadata": {
    "executionInfo": {
     "elapsed": 256,
     "status": "ok",
     "timestamp": 1635347693822,
     "user": {
      "displayName": "Carsten van de Kamp",
      "photoUrl": "https://lh3.googleusercontent.com/a/default-user=s64",
      "userId": "09359761263260079670"
     },
     "user_tz": -120
    },
    "id": "a9abdf53"
   },
   "outputs": [],
   "source": [
    "def nuSVR(features_train, features_test, labels_train, labels_test, N_data_per_song):\n",
    "\n",
    "    # Standardizing data\n",
    "    mean = features_train.mean()\n",
    "    std = features_train.std()\n",
    "\n",
    "    train_df = (features_train - mean) / std\n",
    "    test_df = (features_test - mean) / std\n",
    "\n",
    "    # Classifier\n",
    "    clf = svm.NuSVR(nu=0.5, C=1.0, kernel='rbf',)\n",
    "    clf.fit(train_df, labels_train)\n",
    "\n",
    "    return clf"
   ]
  },
  {
   "cell_type": "code",
   "execution_count": 7,
   "id": "d2c60689",
   "metadata": {
    "executionInfo": {
     "elapsed": 342,
     "status": "ok",
     "timestamp": 1635347503057,
     "user": {
      "displayName": "Carsten van de Kamp",
      "photoUrl": "https://lh3.googleusercontent.com/a/default-user=s64",
      "userId": "09359761263260079670"
     },
     "user_tz": -120
    },
    "id": "d2c60689"
   },
   "outputs": [],
   "source": [
    "# # Data import\n",
    "\n",
    "# ZC = np.load('../preprocessing/zeroCrossings_frame100ms_hop50ms.npy')\n",
    "# SC = np.load('../preprocessing/spectralCentroid_frame100ms_hop50ms.npy')\n",
    "# SV = np.load('../preprocessing/spectralVariance_frame5000ms_hop2500ms.npy')\n",
    "# ST = np.load('../preprocessing/staticTempoLibrosa.npy')\n",
    "\n",
    "# labels = pd.read_csv('../preprocessing/labels.csv')"
   ]
  },
  {
   "cell_type": "code",
   "execution_count": 8,
   "id": "dcb6dddd",
   "metadata": {
    "colab": {
     "base_uri": "https://localhost:8080/"
    },
    "executionInfo": {
     "elapsed": 23630,
     "status": "ok",
     "timestamp": 1635347527052,
     "user": {
      "displayName": "Carsten van de Kamp",
      "photoUrl": "https://lh3.googleusercontent.com/a/default-user=s64",
      "userId": "09359761263260079670"
     },
     "user_tz": -120
    },
    "id": "dcb6dddd",
    "outputId": "3e56ecc6-a081-4ece-c0b2-aa869dc7f2bc"
   },
   "outputs": [
    {
     "name": "stdout",
     "output_type": "stream",
     "text": [
      "Mounted at /content/gdrive\n"
     ]
    }
   ],
   "source": [
    "# Data import in Google Colab\n",
    "\n",
    "from google.colab import drive\n",
    "\n",
    "drive.mount('/content/gdrive')\n",
    "\n",
    "ZC = np.load('gdrive/My Drive/Colab Notebooks/zeroCrossings_frame100ms_hop50ms.npy')\n",
    "SC = np.load('gdrive/My Drive/Colab Notebooks/spectralCentroid_frame100ms_hop50ms.npy')\n",
    "SV = np.load('gdrive/My Drive/Colab Notebooks/spectralVariance_frame5000ms_hop2500ms.npy')\n",
    "ST = np.load('gdrive/My Drive/Colab Notebooks/staticTempoLibrosa.npy')\n",
    "\n",
    "labels = pd.read_csv('gdrive/My Drive/Colab Notebooks/labels.csv')"
   ]
  },
  {
   "cell_type": "code",
   "execution_count": 9,
   "id": "829994fc",
   "metadata": {
    "executionInfo": {
     "elapsed": 52,
     "status": "ok",
     "timestamp": 1635347528286,
     "user": {
      "displayName": "Carsten van de Kamp",
      "photoUrl": "https://lh3.googleusercontent.com/a/default-user=s64",
      "userId": "09359761263260079670"
     },
     "user_tz": -120
    },
    "id": "829994fc"
   },
   "outputs": [],
   "source": [
    "# Only keep the emotion labels \n",
    "# These correspond to the average number each specific emotion was reported\n",
    "\n",
    "# For classifying we threshold these averages at 0.5. \n",
    "# Average > 0.5: this emotion corresponds to this song\n",
    "# Average < 0.5: emotion does not belong to this song\n",
    "\n",
    "labels = labels.drop(['genre',\n",
    "             'var_amazement',\n",
    "             'var_solemnity',\n",
    "             'var_tenderness',\n",
    "             'var_nostalgia',\n",
    "             'var_calmness',\n",
    "             'var_power',\n",
    "             'var_joyful_activation',\n",
    "             'var_tension',\n",
    "             'var_sadness',\n",
    "             'mood',\n",
    "             'var_mood',\n",
    "             'liked',\n",
    "             'var_liked',\n",
    "             'disliked',\n",
    "             'var_disliked',\n",
    "             'age',\n",
    "             'var_age',\n",
    "             'gender',\n",
    "             'var_gender',\n",
    "             'number_of_observations',\n",
    "             'track id'             \n",
    "            ], axis=1)\n",
    "\n",
    "emotions = list(labels)"
   ]
  },
  {
   "cell_type": "code",
   "execution_count": 10,
   "id": "d685ff9d",
   "metadata": {
    "colab": {
     "base_uri": "https://localhost:8080/"
    },
    "executionInfo": {
     "elapsed": 50,
     "status": "ok",
     "timestamp": 1635347528287,
     "user": {
      "displayName": "Carsten van de Kamp",
      "photoUrl": "https://lh3.googleusercontent.com/a/default-user=s64",
      "userId": "09359761263260079670"
     },
     "user_tz": -120
    },
    "id": "d685ff9d",
    "outputId": "ae812847-f3b6-45c7-e814-e96a99026672"
   },
   "outputs": [
    {
     "data": {
      "text/plain": [
       "amazement            0.134012\n",
       "solemnity            0.195961\n",
       "tenderness           0.176911\n",
       "nostalgia            0.254279\n",
       "calmness             0.299257\n",
       "power                0.190244\n",
       "joyful_activation    0.261896\n",
       "tension              0.237685\n",
       "sadness              0.185288\n",
       "dtype: float64"
      ]
     },
     "execution_count": 10,
     "metadata": {},
     "output_type": "execute_result"
    }
   ],
   "source": [
    "np.mean(labels)"
   ]
  },
  {
   "cell_type": "markdown",
   "id": "0e034864",
   "metadata": {
    "id": "0e034864"
   },
   "source": [
    "------------------------------"
   ]
  },
  {
   "cell_type": "code",
   "execution_count": 11,
   "id": "82e32005",
   "metadata": {
    "executionInfo": {
     "elapsed": 304,
     "status": "ok",
     "timestamp": 1635347530521,
     "user": {
      "displayName": "Carsten van de Kamp",
      "photoUrl": "https://lh3.googleusercontent.com/a/default-user=s64",
      "userId": "09359761263260079670"
     },
     "user_tz": -120
    },
    "id": "82e32005"
   },
   "outputs": [],
   "source": [
    "from sklearn.model_selection import train_test_split\n",
    "\n",
    "\"\"\"\n",
    "For convenience we remove the 3 songs that are shorter than 60 seconds. \n",
    "Actually we should take them into account to avoid unbalancing the data unnecessarily \n",
    "\"\"\"\n",
    "ZC, SC, SV, ST, labels = removeNaN(ZC, SC, SV, ST, labels)\n",
    "\n",
    "\n",
    "ZC_train, ZC_test, SV_train, SV_test, SC_train, SC_test, ST_train, ST_test, labels_train, labels_test = train_test_split(\n",
    "    ZC, SV, SC, ST, labels, test_size=0.2, shuffle=True)"
   ]
  },
  {
   "cell_type": "code",
   "execution_count": 12,
   "id": "beec2b62",
   "metadata": {
    "executionInfo": {
     "elapsed": 409,
     "status": "ok",
     "timestamp": 1635347531370,
     "user": {
      "displayName": "Carsten van de Kamp",
      "photoUrl": "https://lh3.googleusercontent.com/a/default-user=s64",
      "userId": "09359761263260079670"
     },
     "user_tz": -120
    },
    "id": "beec2b62"
   },
   "outputs": [],
   "source": [
    "assert np.shape(ZC) != np.shape(ST)\n",
    "\n",
    "[ZC_train, SC_train, SV_train, ST_train], Ndata_per_song = StrechArrays(\n",
    "    [ZC_train, SC_train, SV_train, ST_train])\n",
    "\n",
    "[ZC_test, SC_test, SV_test, ST_test], Ndata_per_song_test = StrechArrays(\n",
    "    [ZC_test, SC_test, SV_test, ST_test])\n",
    "\n",
    "assert np.shape(ZC_train) == np.shape(SC_train) == np.shape(SV_train) == np.shape(ST_train)\n",
    "assert Ndata_per_song == Ndata_per_song_test\n",
    "\n",
    "features_dict_train = {'ZC': ZC_train.flatten(),\n",
    "                       'SC': SC_train.flatten(),\n",
    "                       'SV': SV_train.flatten(),\n",
    "                       'StaticTempo': ST_train.flatten()}\n",
    "features_train = pd.DataFrame(data=features_dict_train)\n",
    "\n",
    "features_dict_test = {'ZC': ZC_test.flatten(),\n",
    "                      'SC': SC_test.flatten(),\n",
    "                      'SV': SV_test.flatten(),\n",
    "                      'StaticTempo': ST_test.flatten()}\n",
    "features_test = pd.DataFrame(data=features_dict_test)\n",
    "\n",
    "labels_train = pd.DataFrame(labels_train.loc[labels_train.index.repeat(\n",
    "    Ndata_per_song)])  # repeat to meet the number of features"
   ]
  },
  {
   "cell_type": "code",
   "execution_count": null,
   "id": "2d976755",
   "metadata": {
    "colab": {
     "base_uri": "https://localhost:8080/"
    },
    "id": "2d976755",
    "outputId": "0806c458-988a-4381-e35e-a541605a7906"
   },
   "outputs": [
    {
     "name": "stderr",
     "output_type": "stream",
     "text": [
      "/usr/local/lib/python3.7/dist-packages/sklearn/utils/validation.py:760: DataConversionWarning: A column-vector y was passed when a 1d array was expected. Please change the shape of y to (n_samples, ), for example using ravel().\n",
      "  y = column_or_1d(y, warn=True)\n"
     ]
    }
   ],
   "source": [
    "import pickle\n",
    "\n",
    "emotion = ['nostalgia']\n",
    "clf = nuSVR(features_train, features_test, labels_train[emotion], labels_test[emotion], Ndata_per_song)\n",
    "\n",
    "# save classifier\n",
    "try:\n",
    "    with open('gdrive/My Drive/Colab Notebooks/CLASSIFIER_NuSVR_Nostalgia', 'wb') as handle:\n",
    "        pickle.dump(clf, handle, protocol=pickle.HIGHEST_PROTOCOL)\n",
    "except:\n",
    "    pass"
   ]
  },
  {
   "cell_type": "markdown",
   "id": "AWEbivCP-Lg2",
   "metadata": {
    "id": "AWEbivCP-Lg2"
   },
   "source": [
    "-------------------"
   ]
  },
  {
   "cell_type": "markdown",
   "id": "04ef9dec",
   "metadata": {
    "id": "04ef9dec"
   },
   "source": [
    "___"
   ]
  },
  {
   "cell_type": "markdown",
   "id": "8a565b43",
   "metadata": {
    "id": "8a565b43"
   },
   "source": [
    "---"
   ]
  },
  {
   "cell_type": "code",
   "execution_count": null,
   "id": "1eb065cd",
   "metadata": {
    "id": "1eb065cd"
   },
   "outputs": [],
   "source": [
    "# # Make dataframe\n",
    "\n",
    "# Ndata_per_song = np.shape(ZC)[1]\n",
    "# assert Ndata_per_song != 400\n",
    "# [ZC, SC, SV, ST] = StrechArrays([ZC, SC, SV, ST])\n",
    "# assert np.shape(ZC) == np.shape(SC) == np.shape(SV) == np.shape(ST)\n",
    "\n",
    "# features_dict = {'ZC': ZC.flatten(),\n",
    "#                          'SC': SC.flatten(),\n",
    "#                          'SV': SV.flatten(),\n",
    "#                          'StaticTempo': ST.flatten()}\n",
    "# features = pd.DataFrame(data=features_dict)\n",
    "\n",
    "\n",
    "# # Remove NaN values\n",
    "# labels = pd.DataFrame(labels.loc[labels.index.repeat(Ndata_per_song)])  # repeat to meet the number of features\n",
    "# labels = labels.reset_index(drop=True)\n",
    "# features, labels = removeNaN(features, labels)\n",
    "# assert not features.isnull().any().any(), 'features contains NaN'"
   ]
  },
  {
   "cell_type": "code",
   "execution_count": null,
   "id": "95a01288",
   "metadata": {
    "id": "95a01288"
   },
   "outputs": [],
   "source": [
    "# # Doing the actual training of the support vector classifier over multple rounds of shuffeling\n",
    "# assert not features.isnull().any().any(), 'features contains NaN1'\n",
    "\n",
    "# threshold = 0.5\n",
    "\n",
    "# N_emotions = 9\n",
    "# N_features = 4\n",
    "\n",
    "# confusion_Matrix = np.zeros((N_emotions, 2, 2))\n",
    "\n",
    "# N_shuffles = 1\n",
    "# k = 2\n",
    "# accuracies = np.zeros((N_emotions, N_shuffles))\n",
    "\n",
    "# emotions = ['amazement']\n",
    "\n",
    "# assert not features.isnull().any().any(), 'features contains NaN2'\n",
    "\n",
    "# for e_idx, emotion in enumerate(emotions):\n",
    "#     assert not features.isnull().any().any(), 'features contains NaN3'\n",
    "    \n",
    "#     for Siter in range(N_shuffles):\n",
    "#         assert not features.isnull().any().any(), 'features contains NaN4'\n",
    "        \n",
    "#         thresholdedLabel = copy.deepcopy(labels[emotion])\n",
    "\n",
    "#         thresholdedLabel[thresholdedLabel >= threshold] = int(1)\n",
    "#         thresholdedLabel[thresholdedLabel < threshold] = int(0)\n",
    "       \n",
    "#         assert not features.isnull().any().any(), 'features contains NaN5'\n",
    "        \n",
    "#         features, thresholdedLabel = shuffleData(features, thresholdedLabel)\n",
    "#         assert not features.isnull().any().any(), 'features contains NaN6'\n",
    "#         confusion_Matrix[e_idx, :, :] += kFoldConfusionMatrix(k, features, thresholdedLabel)\n",
    "\n",
    "#         accuracies[e_idx, Siter] = np.sum(\n",
    "#             np.eye(2)*confusion_Matrix[e_idx, :, :])/np.sum(confusion_Matrix[e_idx, :, :])"
   ]
  },
  {
   "cell_type": "code",
   "execution_count": null,
   "id": "3fc1cb03",
   "metadata": {
    "id": "3fc1cb03"
   },
   "outputs": [],
   "source": [
    "# # Confusion matrix\n",
    "# for e_idx, emotion in enumerate(emotions):\n",
    "#     print(f'EMOTION {emotion}: \\n')\n",
    "#     print(f'Accuracy: {np.mean(accuracies[e_idx, :])} +- {np.std(accuracies[e_idx, :])} \\n')\n",
    "\n",
    "#     fig,ax = plt.subplots()\n",
    "#     CMATRIX = confusion_Matrix[e_idx, :, :]\n",
    "#     print(CMATRIX)\n",
    "#     print('\\n\\n')\n",
    "#     CM = ConfusionMatrixDisplay(CMATRIX)\n",
    "#     CM.plot(ax=ax)\n",
    "#     ax.set_title(f'{emotion}')"
   ]
  },
  {
   "cell_type": "code",
   "execution_count": null,
   "id": "46e24d0a",
   "metadata": {
    "id": "46e24d0a"
   },
   "outputs": [],
   "source": [
    "# # Shuffle\n",
    "\n",
    "# def shuffleData(features, labels):\n",
    "#     features = features.reset_index(drop=True)\n",
    "#     labels = labels.reset_index(drop=True)\n",
    "#     assert not features.isnull().any().any(), 'features contains NaN1'\n",
    "#     n_data = len(features)\n",
    "#     idx = np.random.permutation(n_data)\n",
    "#     features, labels = features.reindex(idx), labels.reindex(idx)\n",
    "#     assert not features.isnull().any().any(), 'features contains NaN2'\n",
    "#     return features, labels"
   ]
  },
  {
   "cell_type": "code",
   "execution_count": null,
   "id": "5656a0ba",
   "metadata": {
    "id": "5656a0ba"
   },
   "outputs": [],
   "source": [
    "# # K fold Crossvalidation\n",
    "\n",
    "# def kFoldConfusionMatrix(k, features, labels):\n",
    "\n",
    "# #     kfold_train_metrics = []\n",
    "# #     kfold_test_metrics = []\n",
    "\n",
    "#     confusion_Matrix_total = np.zeros((2, 2), dtype= 'int')\n",
    "\n",
    "#     total_input = features\n",
    "#     total_labels = labels\n",
    "\n",
    "#     cv = KFold(n_splits=k)\n",
    "\n",
    "#     for train_index, test_index in cv.split(total_input):        \n",
    "#         train_df, train_labels = total_input.iloc[train_index], total_labels.iloc[train_index]\n",
    "#         test_df, test_labels = total_input.iloc[test_index], total_labels.iloc[test_index]\n",
    "\n",
    "#         # Standardizing data\n",
    "#         mean = train_df.mean()\n",
    "#         std = train_df.std()\n",
    "\n",
    "#         train_df = (train_df - mean) / std\n",
    "#         test_df = (test_df - mean) / std\n",
    "\n",
    "#         # Classifier\n",
    "#         clf = svm.SVC(kernel='linear', class_weight='balanced')\n",
    "#         clf.fit(train_df, train_labels)\n",
    "\n",
    "# #         kfold_train_metrics.append(clf.score(train_df, train_labels))\n",
    "# #         kfold_test_metrics.append(clf.score(test_df, test_labels))\n",
    "\n",
    "#         test_prediction = clf.predict(test_df)\n",
    "    \n",
    "#         majority_vote = MajorityVote(test_predictoin, N_data_per_song)\n",
    "    \n",
    "#         CM = confusion_matrix(test_labels, test_prediction, labels= [0,1])\n",
    "        \n",
    "\n",
    "#         confusion_Matrix_total += CM\n",
    "#     return confusion_Matrix_total"
   ]
  },
  {
   "cell_type": "code",
   "execution_count": null,
   "id": "9d84353c",
   "metadata": {
    "id": "9d84353c"
   },
   "outputs": [],
   "source": []
  }
 ],
 "metadata": {
  "colab": {
   "collapsed_sections": [],
   "name": "emotionSimpleFeatures-nuSVR.ipynb",
   "provenance": []
  },
  "kernelspec": {
   "display_name": "Python [conda env:musicInformatics]",
   "language": "python",
   "name": "conda-env-musicInformatics-py"
  },
  "language_info": {
   "codemirror_mode": {
    "name": "ipython",
    "version": 3
   },
   "file_extension": ".py",
   "mimetype": "text/x-python",
   "name": "python",
   "nbconvert_exporter": "python",
   "pygments_lexer": "ipython3",
   "version": "3.9.7"
  }
 },
 "nbformat": 4,
 "nbformat_minor": 5
}
