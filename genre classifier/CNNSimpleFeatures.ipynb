{
 "cells": [
  {
   "cell_type": "code",
   "execution_count": 1,
   "id": "2ff697e6-687b-41d4-8895-16a87af3fd23",
   "metadata": {},
   "outputs": [],
   "source": [
    "import numpy as np\n",
    "import pandas as pd\n",
    "import matplotlib.pyplot as plt\n",
    "from sklearn import svm\n",
    "from sklearn.model_selection import KFold\n",
    "from sklearn.metrics import confusion_matrix, ConfusionMatrixDisplay"
   ]
  },
  {
   "cell_type": "code",
   "execution_count": 2,
   "id": "2eb4b134-c492-4f5a-bdf9-b01a74274c0f",
   "metadata": {},
   "outputs": [],
   "source": [
    "# Data import\n",
    "genres = [\"classical\", \"electronic\", \"pop\", \"rock\"]\n",
    "\n",
    "ZC = np.load('../preprocessing/zeroCrossings_frame200ms_hop100ms.npy')\n",
    "SC = np.load('../preprocessing/spectralCentroid_frame200ms_hop100ms.npy')\n",
    "SV = np.load('../preprocessing/spectralVariance_frame200ms_hop100ms.npy')"
   ]
  },
  {
   "cell_type": "code",
   "execution_count": null,
   "id": "59c5b817-470f-48f4-8517-e8946dce4a79",
   "metadata": {},
   "outputs": [],
   "source": []
  }
 ],
 "metadata": {
  "kernelspec": {
   "display_name": "Python 3 (ipykernel)",
   "language": "python",
   "name": "python3"
  },
  "language_info": {
   "codemirror_mode": {
    "name": "ipython",
    "version": 3
   },
   "file_extension": ".py",
   "mimetype": "text/x-python",
   "name": "python",
   "nbconvert_exporter": "python",
   "pygments_lexer": "ipython3",
   "version": "3.8.8"
  }
 },
 "nbformat": 4,
 "nbformat_minor": 5
}
