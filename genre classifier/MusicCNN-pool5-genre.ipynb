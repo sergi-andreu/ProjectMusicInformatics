{
 "cells": [
  {
   "cell_type": "code",
   "execution_count": 1,
   "id": "5a8632ad-da86-4079-8e6f-d0a4b6c78133",
   "metadata": {},
   "outputs": [],
   "source": [
    "import sys\n",
    "import os"
   ]
  },
  {
   "cell_type": "code",
   "execution_count": 2,
   "id": "f90bcd99-d314-4ab0-b3e8-618304bdbaf8",
   "metadata": {},
   "outputs": [],
   "source": [
    "import numpy as np\n",
    "import pandas as pd"
   ]
  },
  {
   "cell_type": "code",
   "execution_count": 3,
   "id": "0bccb7d2-3b34-4654-871f-97ea89b26a42",
   "metadata": {},
   "outputs": [
    {
     "name": "stdout",
     "output_type": "stream",
     "text": [
      "(400, 40, 128)\n"
     ]
    }
   ],
   "source": [
    "pool5 = np.load(\"../MusicCNNFeatures/pool5.npy\")\n",
    "print(np.shape(pool5))"
   ]
  },
  {
   "cell_type": "code",
   "execution_count": 4,
   "id": "64ac7b98-97ad-48ff-9fa5-a60167e3ede6",
   "metadata": {},
   "outputs": [
    {
     "name": "stdout",
     "output_type": "stream",
     "text": [
      "(400, 40, 128)\n"
     ]
    }
   ],
   "source": [
    "print(np.shape(pool5))"
   ]
  },
  {
   "cell_type": "code",
   "execution_count": 6,
   "id": "4ff18ee0-acc4-41b2-afb8-55d925925d38",
   "metadata": {},
   "outputs": [],
   "source": [
    "label_songs = pd.read_csv(\"../preprocessing/labels.csv\")\n",
    "info_songs = pd.read_csv(\"../Info/info.csv\")\n",
    "\n",
    "select_label = \"genre\"\n",
    "\n",
    "if select_label == \"genre\":\n",
    "    labels = label_songs[select_label].map({\"classical\":0, \"electronic\":1, \"pop\":2, \"rock\":3})\n",
    "labels = labels.to_numpy()"
   ]
  },
  {
   "cell_type": "code",
   "execution_count": 7,
   "id": "42dc4dac-3248-4e9e-8079-35394e3c9812",
   "metadata": {},
   "outputs": [],
   "source": [
    "n_data = len(label_songs)\n",
    "idx = np.random.permutation(n_data)\n",
    "info_songs = info_songs.reindex(idx)\n",
    "pool5 = pool5[idx, :, :]\n",
    "labels = labels[idx]"
   ]
  },
  {
   "cell_type": "code",
   "execution_count": 8,
   "id": "8a1a6b5b-d0f1-4fe8-ba2b-894b9e52e33c",
   "metadata": {},
   "outputs": [
    {
     "name": "stdout",
     "output_type": "stream",
     "text": [
      "Model: \"model\"\n",
      "_________________________________________________________________\n",
      "Layer (type)                 Output Shape              Param #   \n",
      "=================================================================\n",
      "input_1 (InputLayer)         [(None, 10, 128, 1)]      0         \n",
      "_________________________________________________________________\n",
      "conv2d (Conv2D)              (None, 1, 128, 5)         55        \n",
      "_________________________________________________________________\n",
      "dropout (Dropout)            (None, 1, 128, 5)         0         \n",
      "_________________________________________________________________\n",
      "dense (Dense)                (None, 1, 128, 20)        120       \n",
      "_________________________________________________________________\n",
      "flatten (Flatten)            (None, 2560)              0         \n",
      "_________________________________________________________________\n",
      "dropout_1 (Dropout)          (None, 2560)              0         \n",
      "_________________________________________________________________\n",
      "dense_1 (Dense)              (None, 4)                 10244     \n",
      "=================================================================\n",
      "Total params: 10,419\n",
      "Trainable params: 10,419\n",
      "Non-trainable params: 0\n",
      "_________________________________________________________________\n"
     ]
    }
   ],
   "source": [
    "import tensorflow as tf\n",
    "import tensorflow.keras as keras\n",
    "from tensorflow.keras.layers import Dense, Dropout, Flatten\n",
    "from tensorflow.keras import Input, layers\n",
    "from tensorflow.keras import backend as K\n",
    "\n",
    "sample_size = (10, 128, 1)\n",
    "\n",
    "drop_out_rate = 0.5\n",
    "\n",
    "# very simple keras Sequential model\n",
    "input_tensor = Input(sample_size)\n",
    "x = layers.Conv2D(5, (10, 1), padding=\"valid\", activation=\"relu\", strides=1)(input_tensor)\n",
    "#x = layers.MaxPooling2D(pool_size=(4,1))(x)\n",
    "x = layers.Dropout(drop_out_rate)(x)\n",
    "x = layers.Dense(20, activation=\"relu\")(x)\n",
    "x = layers.Flatten()(x)\n",
    "x = layers.Dropout(drop_out_rate)(x)\n",
    "output_tensor = layers.Dense(4, activation=\"softmax\")(x)\n",
    "\n",
    "model_1 = tf.keras.Model(input_tensor, output_tensor)\n",
    "model_1.summary()"
   ]
  },
  {
   "cell_type": "code",
   "execution_count": null,
   "id": "a2780c88-f49f-4bb4-acdc-fa105a7aa5ad",
   "metadata": {},
   "outputs": [],
   "source": [
    "def slice_accordingly(input_tensor, labels, size=10):\n",
    "\n",
    "    input_shape = (tf.shape(input_tensor).numpy())\n",
    "    \n",
    "    input_shape[1] = size\n",
    "    size = input_shape\n",
    "    \n",
    "    sliced_tensor = tf.image.random_crop(input_tensor, size)\n",
    "    \n",
    "    nan_values, idx = tf.unique(tf.gather(tf.where(tf.math.is_nan(sliced_tensor)), 0, axis=1))\n",
    "    nan_values = nan_values.numpy()\n",
    "  \n",
    "    msk = np.zeros((input_shape[0]), dtype=np.bool)\n",
    "    msk[nan_values] = True\n",
    "    msk = ~msk\n",
    "\n",
    "    sliced_tensor = tf.boolean_mask(sliced_tensor, msk , axis=0)\n",
    "    labels = tf.boolean_mask(labels , msk, axis=0)\n",
    "    \n",
    "    return sliced_tensor, labels"
   ]
  },
  {
   "cell_type": "code",
   "execution_count": null,
   "id": "aeb10183-5a43-4ba8-97a2-c70cc07aa4bd",
   "metadata": {},
   "outputs": [],
   "source": [
    "fraction_validation = 0.25\n",
    "n_test = int(fraction_validation*len(labels))\n",
    "n_train = len(labels) - n_test\n",
    "\n",
    "train_features, train_labels = pool5[:n_train], labels[:n_train]\n",
    "validation_features, validation_labels = pool5[n_train:], labels[n_train:]\n",
    "\n",
    "print(n_test)"
   ]
  },
  {
   "cell_type": "code",
   "execution_count": null,
   "id": "87f9a5bc-d8f3-404d-9ebf-783a83c31e89",
   "metadata": {},
   "outputs": [],
   "source": [
    "train_dataset = tf.data.Dataset.from_tensor_slices((train_features, train_labels))\n",
    "validation_dataset = tf.data.Dataset.from_tensor_slices((validation_features, validation_labels))"
   ]
  },
  {
   "cell_type": "code",
   "execution_count": null,
   "id": "b534342e-bfd0-4218-ad1b-a71a0801739d",
   "metadata": {},
   "outputs": [],
   "source": [
    "model = model_1\n",
    "\n",
    "model.compile(optimizer=\"adam\",\n",
    "              loss=tf.keras.losses.SparseCategoricalCrossentropy(from_logits=False),\n",
    "              metrics=['accuracy'])\n",
    "\n",
    "n_epochs = 20\n",
    "batch_size = 20\n",
    "\n",
    "for epoch in range(n_epochs):\n",
    "    print(\"Epoch\", epoch)\n",
    "    train_ds = train_dataset.shuffle(n_train).batch(batch_size)\n",
    "    val_ds = validation_dataset.shuffle(n_test).batch(n_test)\n",
    "    \n",
    "    x_val, y_val = next(iter(val_ds))\n",
    "    x_val, y_val = slice_accordingly(x_val, y_val)\n",
    "    \n",
    "    for X, Y in train_ds:\n",
    "        X, Y = slice_accordingly(X, Y)\n",
    "        \n",
    "        history = model.fit(X, Y,\n",
    "                           validation_data=(x_val, y_val),\n",
    "                           verbose=1) "
   ]
  },
  {
   "cell_type": "code",
   "execution_count": null,
   "id": "108eb558-157b-4275-b087-f1cce94f6ff7",
   "metadata": {},
   "outputs": [],
   "source": [
    "def slice(input_tensor, labels, begin, size=10):\n",
    "\n",
    "    input_shape = (tf.shape(input_tensor).numpy())\n",
    "    \n",
    "    begin = [0, begin, 0]\n",
    "    size = [100, size, 128]\n",
    "    \n",
    "    sliced_tensor = tf.slice(input_tensor, begin, size)\n",
    "    \n",
    "    nan_values, idx = tf.unique(tf.gather(tf.where(tf.math.is_nan(sliced_tensor)), 0, axis=1))\n",
    "    nan_values = nan_values.numpy()\n",
    "  \n",
    "    msk = np.zeros((input_shape[0]), dtype=np.bool)\n",
    "    msk[nan_values] = True\n",
    "    msk = ~msk\n",
    "\n",
    "    sliced_tensor = tf.boolean_mask(sliced_tensor, msk , axis=0)\n",
    "    labels = tf.boolean_mask(labels , msk, axis=0)\n",
    "    \n",
    "    return sliced_tensor, labels"
   ]
  },
  {
   "cell_type": "code",
   "execution_count": null,
   "id": "e5b48acf-f8d7-4d25-9254-e2a56744fb02",
   "metadata": {},
   "outputs": [],
   "source": [
    "val_ds = validation_dataset.batch(n_test)\n",
    "\n",
    "x_val, y_val = next(iter(val_ds))\n",
    "x_val, y_val = slice(x_val, y_val, 0)\n",
    "\n",
    "predictions = model.predict(x_val)\n",
    "predictions = tf.argmax(predictions,1)\n",
    "\n",
    "cm = tf.math.confusion_matrix(\n",
    "    y_val, predictions, num_classes=4)\n",
    "\n",
    "import matplotlib.pyplot as plt\n",
    "plt.matshow(cm)"
   ]
  }
 ],
 "metadata": {
  "kernelspec": {
   "display_name": "tensorflow",
   "language": "python",
   "name": "tensorflow"
  },
  "language_info": {
   "codemirror_mode": {
    "name": "ipython",
    "version": 3
   },
   "file_extension": ".py",
   "mimetype": "text/x-python",
   "name": "python",
   "nbconvert_exporter": "python",
   "pygments_lexer": "ipython3",
   "version": "3.6.13"
  }
 },
 "nbformat": 4,
 "nbformat_minor": 5
}
