{
 "cells": [
  {
   "cell_type": "markdown",
   "id": "73946ffd",
   "metadata": {},
   "source": [
    "## Support Vector Classifier for genre, based on 4 simple features\n",
    "\n",
    "Trained with k fold cross validation and a loop over multple shufflings of the data.\n",
    "Features used are the meadians of the simple feature vectors for each song.\n",
    "\n",
    "Choose between linear and RBF kernel and between taking the mean or the median over the data. "
   ]
  },
  {
   "cell_type": "code",
   "execution_count": 1,
   "id": "c10ab61e",
   "metadata": {},
   "outputs": [],
   "source": [
    "import numpy as np\n",
    "import pandas as pd\n",
    "import matplotlib.pyplot as plt\n",
    "from sklearn import svm\n",
    "from sklearn.model_selection import KFold\n",
    "from sklearn.metrics import confusion_matrix, ConfusionMatrixDisplay\n",
    "import seaborn as sns"
   ]
  },
  {
   "cell_type": "code",
   "execution_count": 2,
   "id": "d2c60689",
   "metadata": {},
   "outputs": [],
   "source": [
    "# Data import\n",
    "\n",
    "genres = [\"classical\", \"electronic\", \"pop\", \"rock\"]\n",
    "\n",
    "ZC = np.load('../preprocessing/SimpleFeatures/zeroCrossings_frame200ms_hop100ms.npy')\n",
    "SC = np.load('../preprocessing/SimpleFeatures/spectralCentroid_frame200ms_hop100ms.npy')\n",
    "SV = np.load('../preprocessing/SimpleFeatures/spectralVariance_frame200ms_hop100ms.npy')\n",
    "ST = np.load('../preprocessing/SimpleFeatures/staticTempoLibrosa.npy')"
   ]
  },
  {
   "cell_type": "code",
   "execution_count": 3,
   "id": "2eb5ab07",
   "metadata": {},
   "outputs": [],
   "source": [
    "# Take the median over all frames for each song to have comparable dimensions\n",
    "\n",
    "ZC = np.nanmedian(ZC, axis=1)\n",
    "SC = np.nanmedian(SC, axis=1)\n",
    "SV = np.nanmedian(SV, axis=1)"
   ]
  },
  {
   "cell_type": "code",
   "execution_count": 4,
   "id": "979ac0ee",
   "metadata": {},
   "outputs": [],
   "source": [
    "# OR take the mean in a certain interval\n",
    "\n",
    "# ZC = np.mean(ZC[:, 100:200], axis=1)\n",
    "# SC = np.mean(SC[:, 100:200], axis=1)\n",
    "# SV = np.mean(SV[:, 2:4], axis=1)"
   ]
  },
  {
   "cell_type": "code",
   "execution_count": 5,
   "id": "dc88d897",
   "metadata": {},
   "outputs": [],
   "source": [
    "# Make dataframe\n",
    "\n",
    "features_dict_medians = {'ZC': ZC,\n",
    "                         'SC': SC,\n",
    "                         'SV': SV,\n",
    "                         'StaticTempo': ST}\n",
    "features = pd.DataFrame(data=features_dict_medians)\n",
    "\n",
    "ones = np.ones(100, dtype='int')\n",
    "labels_dict = {'label': np.concatenate((ones, ones*2, ones*3, ones*4))}\n",
    "labels = pd.DataFrame(labels_dict)"
   ]
  },
  {
   "cell_type": "code",
   "execution_count": 6,
   "id": "46e24d0a",
   "metadata": {},
   "outputs": [],
   "source": [
    "# Shuffle\n",
    "\n",
    "def shuffleData(features, labels):\n",
    "    n_data = len(features)\n",
    "    idx = np.random.permutation(n_data)\n",
    "    features, labels = features.reindex(idx), labels.reindex(idx)\n",
    "    return features, labels"
   ]
  },
  {
   "cell_type": "code",
   "execution_count": 7,
   "id": "5656a0ba",
   "metadata": {},
   "outputs": [],
   "source": [
    "# K fold Crossvalidation\n",
    "\n",
    "def kFoldConfusionMatrix(k, features, labels):\n",
    "\n",
    "    kfold_train_metrics = []\n",
    "    kfold_test_metrics = []\n",
    "\n",
    "    confusion_Matrix = np.zeros((4,4))\n",
    "\n",
    "    # # Drop NaN values\n",
    "    # NaNidx = np.where(features.isnull().any(axis=1).tolist())[0]\n",
    "    # # NaNidx = np.isnan(features)[np.isnan(features) == 1].stack().index.tolist()\n",
    "\n",
    "    # total_input = features.drop(NaNidx)\n",
    "    # total_labels = labels.drop(NaNidx)\n",
    "\n",
    "    total_input = features\n",
    "    total_labels = labels\n",
    "\n",
    "    cv = KFold(n_splits=k)\n",
    "\n",
    "    for train_index, test_index in cv.split(total_input):\n",
    "\n",
    "        train_df, train_labels = total_input.iloc[train_index], total_labels.iloc[train_index]\n",
    "        test_df, test_labels = total_input.iloc[test_index], total_labels.iloc[test_index]\n",
    "\n",
    "        # Standardizing data\n",
    "        mean = train_df.mean()\n",
    "        std = train_df.std()\n",
    "\n",
    "        train_df = (train_df - mean) / std\n",
    "        test_df = (test_df - mean) / std\n",
    "\n",
    "        # Classifier\n",
    "        clf = svm.SVC(decision_function_shape='ovo', kernel='linear') # One versus one SVM classifier with RBF kernel\n",
    "        clf.fit(train_df, np.squeeze(train_labels.to_numpy()))\n",
    "\n",
    "        kfold_train_metrics.append(clf.score(train_df, train_labels))\n",
    "        kfold_test_metrics.append(clf.score(test_df, test_labels))\n",
    "\n",
    "        confusion_Matrix += confusion_matrix(test_labels, clf.predict(test_df), labels=[1,2,3,4])\n",
    "        \n",
    "    return confusion_Matrix"
   ]
  },
  {
   "cell_type": "code",
   "execution_count": 8,
   "id": "95a01288",
   "metadata": {
    "scrolled": true
   },
   "outputs": [],
   "source": [
    "# Doing the actual training of the support vector classifier over multple rounds of shuffeling\n",
    "\n",
    "confusion_Matrix = np.zeros((4,4))\n",
    "\n",
    "N_shuffles = 20\n",
    "k = 10\n",
    "accuracies = []\n",
    "\n",
    "for Siter in range(N_shuffles):\n",
    "    features, labels = shuffleData(features, labels)\n",
    "    confusion_Matrix += kFoldConfusionMatrix(k, features, labels)\n",
    "    \n",
    "    accuracies.append(np.sum(np.eye(4)*confusion_Matrix)/np.sum(confusion_Matrix))"
   ]
  },
  {
   "cell_type": "code",
   "execution_count": 9,
   "id": "3fc1cb03",
   "metadata": {},
   "outputs": [
    {
     "data": {
      "text/plain": [
       "array([[1643.,  115.,  113.,  129.],\n",
       "       [ 803.,  267.,  426.,  504.],\n",
       "       [ 230.,  239.,  626.,  905.],\n",
       "       [ 233.,  151.,  804.,  812.]])"
      ]
     },
     "execution_count": 9,
     "metadata": {},
     "output_type": "execute_result"
    }
   ],
   "source": [
    "# Confusion matrix\n",
    "confusion_Matrix"
   ]
  },
  {
   "cell_type": "code",
   "execution_count": 10,
   "id": "b72ee944",
   "metadata": {},
   "outputs": [],
   "source": [
    "# CM = ConfusionMatrixDisplay(confusion_Matrix)\n",
    "# CM.plot()"
   ]
  },
  {
   "cell_type": "code",
   "execution_count": 11,
   "id": "6ad4aa4a",
   "metadata": {},
   "outputs": [
    {
     "name": "stdout",
     "output_type": "stream",
     "text": [
      "Accuracy: 0.4129770881074335 +- 0.00496752223535497\n"
     ]
    }
   ],
   "source": [
    "print(f'Accuracy: {np.mean(accuracies)} +- {np.std(accuracies)}')"
   ]
  },
  {
   "cell_type": "code",
   "execution_count": 12,
   "id": "f5886c6d",
   "metadata": {},
   "outputs": [
    {
     "data": {
      "text/plain": [
       "array([[0.205375, 0.014375, 0.014125, 0.016125],\n",
       "       [0.100375, 0.033375, 0.05325 , 0.063   ],\n",
       "       [0.02875 , 0.029875, 0.07825 , 0.113125],\n",
       "       [0.029125, 0.018875, 0.1005  , 0.1015  ]])"
      ]
     },
     "execution_count": 12,
     "metadata": {},
     "output_type": "execute_result"
    }
   ],
   "source": [
    "# Normalize confusion matrix\n",
    "\n",
    "confusion_matrix_N = confusion_Matrix / np.sum(confusion_Matrix)\n",
    "confusion_matrix_N"
   ]
  },
  {
   "cell_type": "code",
   "execution_count": null,
   "id": "dd280745",
   "metadata": {},
   "outputs": [],
   "source": [
    "\n",
    "fig,ax = plt.subplots()\n",
    "sns.heatmap(confusion_matrix_N, annot=True, fmt='.2f', xticklabels=genres, yticklabels=genres)\n",
    "plt.ylabel('Actual')\n",
    "plt.xlabel('Predicted')\n",
    "plt.show()"
   ]
  },
  {
   "cell_type": "code",
   "execution_count": null,
   "id": "ea37dfed",
   "metadata": {},
   "outputs": [],
   "source": []
  }
 ],
 "metadata": {
  "kernelspec": {
   "display_name": "Python [conda env:seabornenv]",
   "language": "python",
   "name": "conda-env-seabornenv-py"
  },
  "language_info": {
   "codemirror_mode": {
    "name": "ipython",
    "version": 3
   },
   "file_extension": ".py",
   "mimetype": "text/x-python",
   "name": "python",
   "nbconvert_exporter": "python",
   "pygments_lexer": "ipython3",
   "version": "3.7.11"
  }
 },
 "nbformat": 4,
 "nbformat_minor": 5
}
