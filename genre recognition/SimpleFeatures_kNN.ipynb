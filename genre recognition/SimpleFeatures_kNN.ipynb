{
 "cells": [
  {
   "cell_type": "markdown",
   "id": "7b768ed7-a218-4bdf-89c9-20f8e7cd6e65",
   "metadata": {},
   "source": [
    "# SimpleFeatures_kNN.ipynb\n",
    "\n",
    "Model trained on *simple features* that aims at predicting the *emotion labels*. \n",
    "\n",
    "The approach consists on getting the arrays of simple features (in *preprocessing*) and train a *k nearest neigbhors* with *sklearn*.\n",
    "The problem is treated as a *regression* problem, where the loss function can be chosen between *mean squared error*, *-cosine similarity*, or *both*, being a combination of both losses with equal weight."
   ]
  },
  {
   "cell_type": "code",
   "execution_count": 1,
   "id": "1512df3a-acc6-40e0-84e1-1556d03b0003",
   "metadata": {},
   "outputs": [],
   "source": [
    "import numpy as np\n",
    "import pandas as pd\n",
    "import matplotlib.pyplot as plt\n",
    "from sklearn import svm\n",
    "from sklearn.model_selection import KFold\n",
    "from sklearn.metrics import confusion_matrix, ConfusionMatrixDisplay"
   ]
  },
  {
   "cell_type": "code",
   "execution_count": 2,
   "id": "41bf6924-8af9-4c80-9668-d310a7322ba5",
   "metadata": {},
   "outputs": [
    {
     "name": "stdout",
     "output_type": "stream",
     "text": [
      "(400, 3, 598)\n"
     ]
    }
   ],
   "source": [
    "# Data import\n",
    "genres = [\"classical\", \"electronic\", \"pop\", \"rock\"]\n",
    "\n",
    "ZC = np.load('../preprocessing/zeroCrossings_frame200ms_hop100ms.npy')\n",
    "SC = np.load('../preprocessing/spectralCentroid_frame200ms_hop100ms.npy')\n",
    "SV = np.load('../preprocessing/spectralVariance_frame200ms_hop100ms.npy')\n",
    "\n",
    "ZC = (ZC - np.nanmean(ZC)) / np.nanstd(ZC)\n",
    "SC = (SC - np.nanmean(SC)) / np.nanstd(SC)\n",
    "SV = (SV - np.nanmean(SV)) / np.nanstd(SV)\n",
    "\n",
    "\n",
    "features = np.stack((ZC, SC, SV), axis=1)\n",
    "print(np.shape(features))"
   ]
  },
  {
   "cell_type": "code",
   "execution_count": 3,
   "id": "73ea4bfd-7fce-4643-89bc-e23d039a10f8",
   "metadata": {},
   "outputs": [],
   "source": [
    "label_songs = pd.read_csv(\"../preprocessing/labels.csv\")\n",
    "info_songs = pd.read_csv(\"../Info/info.csv\")\n",
    "\n",
    "select_label = \"genre\"\n",
    "\n",
    "if select_label == \"genre\":\n",
    "    labels = label_songs[select_label].map({\"classical\":0, \"electronic\":1, \"pop\":2, \"rock\":3})\n",
    "labels = labels.to_numpy()"
   ]
  },
  {
   "cell_type": "code",
   "execution_count": 4,
   "id": "5ee6116c-38bd-43f9-bf77-0ad09e2b5aee",
   "metadata": {},
   "outputs": [],
   "source": [
    "n_data = len(label_songs)\n",
    "idx = np.random.permutation(n_data)\n",
    "info_songs = info_songs.reindex(idx)\n",
    "features = features[idx, :, :]\n",
    "labels = labels[idx]"
   ]
  },
  {
   "cell_type": "code",
   "execution_count": 5,
   "id": "27635aaa-85ad-4e41-8289-7d5fbaa7dcdc",
   "metadata": {},
   "outputs": [],
   "source": [
    "fraction_validation = 0.25\n",
    "n_test = int(fraction_validation*len(labels))\n",
    "n_train = len(labels) - n_test\n",
    "\n",
    "train_features, train_labels = features[:n_train], labels[:n_train]\n",
    "validation_features, validation_labels = features[n_train:], labels[n_train:]"
   ]
  },
  {
   "cell_type": "code",
   "execution_count": 6,
   "id": "cf53dafc-d3e5-4c3a-8762-429eb8eaca64",
   "metadata": {},
   "outputs": [],
   "source": [
    "from sklearn.neighbors import KNeighborsClassifier\n",
    "from sklearn.model_selection import KFold\n",
    "\n",
    "n_neighbors = [1, 5, 10, 15, 20]\n",
    "\n",
    "k = 5\n",
    "\n",
    "\n",
    "accuracies = {}\n",
    "\n",
    "for n in n_neighbors:\n",
    "        \n",
    "    knn = KNeighborsClassifier(n_neighbors = n)\n",
    "\n",
    "    kfold_train_metrics = []\n",
    "    kfold_test_metrics = []\n",
    "\n",
    "    total_input = features\n",
    "    total_labels = labels\n",
    "\n",
    "    n_data = len(total_input)\n",
    "    \n",
    "    cv = KFold(n_splits=k)\n",
    "    \n",
    "    accuracy = []\n",
    "\n",
    "    for train_index, test_index in cv.split(total_input):\n",
    "\n",
    "        train_df, train_labels = total_input[train_index][:, :, 10], total_labels[train_index]\n",
    "        test_df, test_labels = total_input[test_index][:, :, 10], total_labels[test_index]\n",
    "\n",
    "        mean = train_df.mean()\n",
    "        std = train_df.std()\n",
    "\n",
    "        train_df = (train_df - mean) / std\n",
    "        test_df = (test_df - mean) / std\n",
    "\n",
    "        knn.fit(train_df, train_labels)\n",
    "        prediction = knn.predict(test_df)\n",
    "\n",
    "        cm = confusion_matrix(test_labels, prediction)\n",
    "        \n",
    "        accuracy.append(np.trace(cm)/np.sum(cm))\n",
    "    \n",
    "    accuracies[n] = accuracy"
   ]
  },
  {
   "cell_type": "code",
   "execution_count": 7,
   "id": "af466eb0-3241-42e6-8b17-5bc2da4c25b5",
   "metadata": {},
   "outputs": [],
   "source": [
    "for n in n_neighbors:\n",
    "    acc_list = accuracies[n]\n",
    "    \n",
    "    acc_mean = str(100*np.mean(acc_list))[:5]\n",
    "    acc_std = str(100*np.std(acc_list))[:3]\n",
    "    \n",
    "    accuracies[n] = f\"{acc_mean} ± {acc_std}\""
   ]
  },
  {
   "cell_type": "code",
   "execution_count": 8,
   "id": "1485011c-e96e-481a-a40e-381f83f310c2",
   "metadata": {},
   "outputs": [
    {
     "name": "stdout",
     "output_type": "stream",
     "text": [
      "{1: '33.25 ± 5.0', 5: '35.25 ± 2.6', 10: '35.25 ± 3.9', 15: '35.75 ± 3.4', 20: '34.5 ± 2.1'}\n"
     ]
    }
   ],
   "source": [
    "print(accuracies)"
   ]
  }
 ],
 "metadata": {
  "kernelspec": {
   "display_name": "Python 3 (ipykernel)",
   "language": "python",
   "name": "python3"
  },
  "language_info": {
   "codemirror_mode": {
    "name": "ipython",
    "version": 3
   },
   "file_extension": ".py",
   "mimetype": "text/x-python",
   "name": "python",
   "nbconvert_exporter": "python",
   "pygments_lexer": "ipython3",
   "version": "3.8.8"
  }
 },
 "nbformat": 4,
 "nbformat_minor": 5
}
