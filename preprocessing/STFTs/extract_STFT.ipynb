{
 "cells": [
  {
   "cell_type": "code",
   "execution_count": 2,
   "id": "7035568d-9345-4e10-b951-53efe6613e53",
   "metadata": {},
   "outputs": [],
   "source": [
    "import sys\n",
    "import os\n",
    "import numpy as np\n",
    "import librosa\n",
    "import librosa.display\n",
    "import IPython.display as ipd\n",
    "import matplotlib.pyplot as plt"
   ]
  },
  {
   "cell_type": "code",
   "execution_count": 2,
   "id": "82680a25-f8bf-4e22-b40e-1f4e89a03574",
   "metadata": {},
   "outputs": [],
   "source": [
    "def extractSTFTs(path, genre=None, print_message=True):\n",
    "    \"\"\"\n",
    "    Extract STFTs from sound files in folder\n",
    "    Genre shift is used to convert from indexing per genre (4 times 1-100) to indexing over all samples (1-400)\n",
    "    There are some songs of shorter duration, their STFT array will be filled with np.nan's \n",
    "    \"\"\"\n",
    "\n",
    "    sample_rate = 44100\n",
    "    \n",
    "    duration = 60.02938776  # seconds per song. Shorter songs are accounted for later\n",
    "    duration = 15\n",
    "\n",
    "    n_fft = 2048\n",
    "    \n",
    "    win_length = int(0.025*sample_rate)\n",
    "    hop_length = int(0.010*sample_rate)\n",
    "\n",
    "    number_of_samples_per_genre = 100\n",
    "\n",
    "    STFTs = np.full((number_of_samples_per_genre, int(1+n_fft/2), 1500), np.nan)\n",
    "    \n",
    "    for file in os.scandir(path):\n",
    "        if file.path.endswith(\".mp3\"):\n",
    "            if print_message:\n",
    "                print(\"analyzing \", file.name, file.path)\n",
    "\n",
    "            currentpath = path + \"/\" + file.name\n",
    "            int_track = int(file.name[:-4])\n",
    "\n",
    "            sound, sample_rate = librosa.load(currentpath, sr=None, mono=True)\n",
    "            \n",
    "            stft = np.absolute(librosa.stft(\n",
    "                sound, n_fft=n_fft, hop_length=hop_length, win_length=win_length, window='hann'))\n",
    "\n",
    "            if np.shape(stft)[1] <= 1500:\n",
    "                stft = np.append(stft,\n",
    "                                 np.full((int(1+n_fft/2), 1500-np.shape(stft)[1]), np.nan),\n",
    "                                axis=-1)\n",
    "            \n",
    "            elif np.shape(stft)[1] > 1500:\n",
    "                stft = stft[:, :1500]\n",
    "\n",
    "            print(int_track, np.shape(stft))\n",
    "\n",
    "            STFTs[int_track-1] = stft\n",
    "\n",
    "    return STFTs  # , INDEX"
   ]
  },
  {
   "cell_type": "raw",
   "id": "bedc6838-5bcb-4232-acf6-371158fdb03d",
   "metadata": {},
   "source": [
    "path = \"../data/emotifymusic/\"\n",
    "genres = [\"classical\", \"electronic\", \"pop\", \"rock\"]\n",
    "STFT = []\n",
    "\n",
    "for genre in genres:\n",
    "    stfts = extractSTFTs(path+genre, genre=genre)\n",
    "    np.save(f\"stfts_{genre}\", stfts)"
   ]
  },
  {
   "cell_type": "code",
   "execution_count": 3,
   "id": "d7ed50fc-713e-43fc-93f1-4a9320e3db3c",
   "metadata": {},
   "outputs": [],
   "source": [
    "genres = [\"classical\", \"electronic\", \"pop\", \"rock\"]\n",
    "\n",
    "STFT = []\n",
    "\n",
    "for genre in genres:\n",
    "    STFT.append(np.load(f\"stfts_{genre}.npy\"))\n",
    "    \n",
    "STFT_reshaped = np.reshape(STFT, (np.shape(STFT)[0]*np.shape(STFT)[1], np.shape(STFT)[2], np.shape(STFT)[3]))\n",
    "    \n",
    "np.savez_compressed('STFT', STFT_reshaped)"
   ]
  }
 ],
 "metadata": {
  "kernelspec": {
   "display_name": "Python 3 (ipykernel)",
   "language": "python",
   "name": "python3"
  },
  "language_info": {
   "codemirror_mode": {
    "name": "ipython",
    "version": 3
   },
   "file_extension": ".py",
   "mimetype": "text/x-python",
   "name": "python",
   "nbconvert_exporter": "python",
   "pygments_lexer": "ipython3",
   "version": "3.8.8"
  }
 },
 "nbformat": 4,
 "nbformat_minor": 5
}
