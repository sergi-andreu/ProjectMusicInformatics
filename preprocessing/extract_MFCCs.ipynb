{
 "cells": [
  {
   "cell_type": "code",
   "execution_count": 1,
   "id": "34e2d045-656b-40c5-b467-84a100827906",
   "metadata": {},
   "outputs": [],
   "source": [
    "import sys\n",
    "import os\n",
    "import numpy as np\n",
    "import librosa\n",
    "import librosa.display\n",
    "import matplotlib.pyplot as plt"
   ]
  },
  {
   "cell_type": "code",
   "execution_count": 2,
   "id": "f02937a8-bbbe-4267-ad92-807f32d5ab23",
   "metadata": {},
   "outputs": [],
   "source": [
    "def extractMFCCs(path, genre=None, print_message=True):\n",
    "    \"\"\"\n",
    "    Extract MFCCs from sound files in folder\n",
    "    Genre shift is used to convert from indexing per genre (4 times 1-100) to indexing over all samples (1-400)\n",
    "    There are some songs of shorter duration, their MFCC array will be filled with -1's \n",
    "    \"\"\"\n",
    "\n",
    "    sample_rate = 44100\n",
    "    \n",
    "    duration = 60.02938776  # seconds per song. Shorter songs are accounted for later\n",
    "\n",
    "    n_fft = 8192\n",
    "    n_MFCC = 20\n",
    "    win_length = int(0.025*sample_rate)\n",
    "    hop_length = int(0.010*sample_rate)\n",
    "\n",
    "    # used to make all mfcc arrays of same size for vectorization\n",
    "    length_mfcc_sequence = int(np.floor((duration*sample_rate-win_length)/hop_length))\n",
    "    number_of_samples_per_genre = 100\n",
    "\n",
    "    MFCCs = np.full((number_of_samples_per_genre, n_MFCC, length_mfcc_sequence, np.nan))\n",
    "    \n",
    "    for file in os.scandir(path):\n",
    "        if file.path.endswith(\".mp3\"):\n",
    "            if print_message:\n",
    "                print(\"analyzing \", file.name, file.path)\n",
    "\n",
    "            currentpath = path + \"/\" + file.name\n",
    "            int_track = int(file.name[:-4])\n",
    "\n",
    "            sound, sample_rate = librosa.load(currentpath, sr=None, mono=True)\n",
    "            mfcc = librosa.feature.mfcc(\n",
    "                sound, sr=sample_rate, n_fft=n_fft, n_mfcc=n_MFCC, hop_length=hop_length, win_length=win_length)\n",
    "\n",
    "            if np.shape(mfcc)[1] < length_mfcc_sequence:\n",
    "                mfcc = np.append(mfcc, \n",
    "                                 np.full((n_MFCC, length_mfcc_sequence), np.nan , axis=-1)\n",
    "\n",
    "            elif np.shape(mfcc)[1] > length_mfcc_sequence:\n",
    "                mfcc = mfcc[:, :length_mfcc_sequence]\n",
    "\n",
    "            print(int_track, np.shape(mfcc))\n",
    "\n",
    "            MFCCs[:, :, int_track-1] = mfcc\n",
    "\n",
    "    return MFCCs  # , INDEX"
   ]
  },
  {
   "cell_type": "code",
   "execution_count": null,
   "id": "6897e4ab-77cd-44bc-aab5-9b2938ac9a65",
   "metadata": {
    "scrolled": true
   },
   "outputs": [
    {
     "name": "stdout",
     "output_type": "stream",
     "text": [
      "analyzing  1.mp3 ../data/emotifymusic/classical\\1.mp3\n"
     ]
    },
    {
     "name": "stderr",
     "output_type": "stream",
     "text": [
      "C:\\Users\\Carsten\\anaconda3\\envs\\musicInformatics\\lib\\site-packages\\librosa\\core\\audio.py:165: UserWarning: PySoundFile failed. Trying audioread instead.\n",
      "  warnings.warn(\"PySoundFile failed. Trying audioread instead.\")\n"
     ]
    },
    {
     "name": "stdout",
     "output_type": "stream",
     "text": [
      "1 (20, 6000)\n",
      "analyzing  10.mp3 ../data/emotifymusic/classical\\10.mp3\n",
      "10 (20, 6000)\n",
      "analyzing  100.mp3 ../data/emotifymusic/classical\\100.mp3\n",
      "100 (20, 6000)\n",
      "analyzing  11.mp3 ../data/emotifymusic/classical\\11.mp3\n",
      "11 (20, 6000)\n",
      "analyzing  12.mp3 ../data/emotifymusic/classical\\12.mp3\n",
      "12 (20, 6000)\n",
      "analyzing  13.mp3 ../data/emotifymusic/classical\\13.mp3\n",
      "13 (20, 6000)\n",
      "analyzing  14.mp3 ../data/emotifymusic/classical\\14.mp3\n",
      "14 (20, 6000)\n",
      "analyzing  15.mp3 ../data/emotifymusic/classical\\15.mp3\n",
      "15 (20, 6000)\n",
      "analyzing  16.mp3 ../data/emotifymusic/classical\\16.mp3\n",
      "17 (20, 6000)\n",
      "analyzing  18.mp3 ../data/emotifymusic/classical\\18.mp3\n",
      "18 (20, 6000)\n",
      "analyzing  19.mp3 ../data/emotifymusic/classical\\19.mp3\n",
      "19 (20, 6000)\n",
      "analyzing  2.mp3 ../data/emotifymusic/classical\\2.mp3\n",
      "2 (20, 6000)\n",
      "analyzing  20.mp3 ../data/emotifymusic/classical\\20.mp3\n",
      "20 (20, 6000)\n",
      "analyzing  21.mp3 ../data/emotifymusic/classical\\21.mp3\n",
      "21 (20, 6000)\n",
      "analyzing  22.mp3 ../data/emotifymusic/classical\\22.mp3\n",
      "22 (20, 6000)\n",
      "analyzing  23.mp3 ../data/emotifymusic/classical\\23.mp3\n",
      "23 (20, 6000)\n",
      "analyzing  24.mp3 ../data/emotifymusic/classical\\24.mp3\n"
     ]
    }
   ],
   "source": [
    "path = \"../data/emotifymusic/\"\n",
    "genres = [\"classical\", \"electronic\", \"pop\", \"rock\"]\n",
    "\n",
    "MFCC = []\n",
    "\n",
    "for genre in genres:\n",
    "    mfccs = extractMFCCs(path+genre, genre=genre)\n",
    "    MFCC.append(mfccs)\n",
    "    \n",
    "np.savez_compressed('MFCCs.npz', classical=MFCC[0], electronic=MFCC[1], pop=MFCC[2], rock=MFCC[3])"
   ]
  },
  {
   "cell_type": "code",
   "execution_count": 4,
   "id": "b59fbf2e-96ab-41a3-828a-c9f45ec4eb31",
   "metadata": {},
   "outputs": [
    {
     "data": {
      "image/png": "[encoded data removed]",
      "text/plain": [
       "<Figure size 1080x360 with 1 Axes>"
      ]
     },
     "metadata": {
      "needs_background": "light"
     },
     "output_type": "display_data"
    }
   ],
   "source": [
    "G = 0  # choose genre #\n",
    "N = 15  # choose sample #\n",
    "fig, ax = plt.subplots(figsize=(15, 5))\n",
    "ax.imshow(MFCC[G][:, :, N], interpolation='nearest', aspect='auto')\n",
    "plt.show()"
   ]
  },
  {
   "cell_type": "code",
   "execution_count": null,
   "id": "f3086441",
   "metadata": {},
   "outputs": [],
   "source": [
    "\"\"\"\n",
    "Load as:\n",
    "\"\"\"\n",
    "\n",
    "# data = np.load('MFCCtest2.npz') \n",
    "# np.shape(data['classical'])"
   ]
  },
  {
   "cell_type": "code",
   "execution_count": null,
   "id": "ce66d5be",
   "metadata": {},
   "outputs": [],
   "source": []
  }
 ],
 "metadata": {
  "kernelspec": {
   "display_name": "Python (musicinfo)",
   "language": "python",
   "name": "musicinfo"
  },
  "language_info": {
   "codemirror_mode": {
    "name": "ipython",
    "version": 3
   },
   "file_extension": ".py",
   "mimetype": "text/x-python",
   "name": "python",
   "nbconvert_exporter": "python",
   "pygments_lexer": "ipython3",
   "version": "3.8.8"
  }
 },
 "nbformat": 4,
 "nbformat_minor": 5
}
