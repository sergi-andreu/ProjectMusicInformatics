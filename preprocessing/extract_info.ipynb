{
 "cells": [
  {
   "cell_type": "markdown",
   "id": "633c1aee-35a0-4b8c-bd70-6d7558fa6ea0",
   "metadata": {},
   "source": [
    "# extract_info.ipynb\n",
    "\n",
    "Information of the song samples is obtained from the [.mp3 samples](../data/emotifymusic/) and saved in [info.csv](.../data/Info/)."
   ]
  },
  {
   "cell_type": "code",
   "execution_count": 1,
   "id": "7c4bdd8b-31f8-4536-b870-d99d4a219055",
   "metadata": {},
   "outputs": [],
   "source": [
    "import sys, os\n",
    "import numpy as np\n",
    "import pandas as pd\n",
    "import librosa"
   ]
  },
  {
   "cell_type": "code",
   "execution_count": 2,
   "id": "d2a07228-0286-44c1-a5ff-de6a921332e3",
   "metadata": {},
   "outputs": [],
   "source": [
    "working_dir = os.getcwd()\n",
    "\n",
    "while working_dir[-11:] != \"Informatics\":\n",
    "    os.chdir(\"..\")\n",
    "    working_dir = os.getcwd()"
   ]
  },
  {
   "cell_type": "code",
   "execution_count": 3,
   "id": "0ff551b0-1ff0-42a9-b736-adae50c85ff2",
   "metadata": {},
   "outputs": [],
   "source": [
    "path = \"data/emotifymusic/\"\n",
    "genres = [\"classical\", \"electronic\", \"pop\", \"rock\"]"
   ]
  },
  {
   "cell_type": "code",
   "execution_count": 6,
   "id": "90683bab-caf2-46e6-be32-1066a28e798f",
   "metadata": {},
   "outputs": [],
   "source": [
    "import sys\n",
    "import os\n",
    "import numpy as np\n",
    "\n",
    "sys.path.append(os.getcwd())\n",
    "\n",
    "def extractInfoFromSounds(path, genre=None, print_message = True):\n",
    "    \"\"\"\n",
    "    Extract info from sound files in folder\n",
    "    Sound is converted to mono by averaging the two channels\n",
    "    \"\"\"\n",
    "    \n",
    "    genre_shift = 0\n",
    "    \n",
    "    if genre==\"electronic\":\n",
    "        genre_shift = 100\n",
    "    elif genre==\"pop\":\n",
    "        genre_shift = 200\n",
    "    elif genre==\"rock\":\n",
    "        genre_shift = 300\n",
    "    \n",
    "    track_id_ = []\n",
    "    names_ = []\n",
    "    duration_ = []\n",
    "    samplerate_ = []\n",
    "    maxabsamplitude_ = []\n",
    "    meanabsamplitude_ = []\n",
    "    \n",
    "    for file in os.scandir(path):\n",
    "        if file.path.endswith(\".mp3\"):\n",
    "            if print_message: print(\"analyzing \", file.name, file.path)\n",
    "\n",
    "            currentpath = path + \"/\" + file.name\n",
    "            names_.append(file.name)\n",
    "            \n",
    "            int_track = int(file.name[:-4])\n",
    "            track_id_.append(int_track + genre_shift)\n",
    "            \n",
    "            sound, sample_rate = librosa.load(currentpath, sr=None, mono=True) \n",
    "            \n",
    "            samplerate_.append(sample_rate)\n",
    "            \n",
    "            duration = librosa.get_duration(y=sound, sr=sample_rate)\n",
    "            \n",
    "            if duration < 59.0:\n",
    "                print(int_track + genre_shift, duration)\n",
    "            duration_.append(duration)\n",
    "     \n",
    "            maxabsamplitude_.append(np.max(np.abs(sound)))\n",
    "            meanabsamplitude_.append(np.mean(np.abs(sound)))\n",
    "            \n",
    "            \n",
    "    genre_ = [genre for i in range(len(duration_))]\n",
    "    \n",
    "    return pd.DataFrame({'Track ID' : track_id_, 'Genre' : genre_, 'Filename': names_, 'Duration' : duration_, 'Sample rate' : samplerate_ ,\n",
    "                      'Max absolute amplitude' : maxabsamplitude_ ,\n",
    "                       'Mean absolute amplitude' : meanabsamplitude_ })\n",
    "    \n",
    "\n",
    "            # dataframe append file.name, sample_rate, duration, max_abs_amp, mean_abs_amp"
   ]
  },
  {
   "cell_type": "code",
   "execution_count": 7,
   "id": "e094980f-330b-483c-9321-62cff1e2077e",
   "metadata": {},
   "outputs": [
    {
     "name": "stdout",
     "output_type": "stream",
     "text": [
      "16 42.34448979591837\n",
      "40 34.963356009070296\n",
      "57 58.41569160997732\n",
      "66 25.835102040816327\n",
      "73 30.27591836734694\n"
     ]
    }
   ],
   "source": [
    "genres = [\"classical\", \"electronic\", \"pop\", \"rock\"]\n",
    "\n",
    "df = pd.DataFrame({'Track ID' : [], 'Genre' : [], 'Filename': [], 'Duration' : [], 'Sample rate' : [] ,\n",
    "                      'Max absolute amplitude' : [] ,\n",
    "                       'Mean absolute amplitude' : []})\n",
    "\n",
    "for genre in genres:\n",
    "    sub_df = extractInfoFromSounds(path + genre, genre=genre, print_message=False)\n",
    "    df = df.append(sub_df)"
   ]
  },
  {
   "cell_type": "code",
   "execution_count": null,
   "id": "a185c41f-39e5-40b1-98bc-860fa49d9bef",
   "metadata": {},
   "outputs": [],
   "source": [
    "pd.options.display.max_rows=1000\n",
    "df"
   ]
  },
  {
   "cell_type": "code",
   "execution_count": null,
   "id": "3d0f68df-1447-48e1-be86-07d155b43876",
   "metadata": {},
   "outputs": [],
   "source": [
    "df[\"Track ID\"] = df[\"Track ID\"].astype(np.int32)\n",
    "df"
   ]
  },
  {
   "cell_type": "code",
   "execution_count": null,
   "id": "a266ca82-87cc-45fe-8400-0e5f8c92d004",
   "metadata": {},
   "outputs": [],
   "source": [
    "df.to_csv(\"Info/info.csv\", index=False)"
   ]
  }
 ],
 "metadata": {
  "kernelspec": {
   "display_name": "Python (musicinfo)",
   "language": "python",
   "name": "musicinfo"
  },
  "language_info": {
   "codemirror_mode": {
    "name": "ipython",
    "version": 3
   },
   "file_extension": ".py",
   "mimetype": "text/x-python",
   "name": "python",
   "nbconvert_exporter": "python",
   "pygments_lexer": "ipython3",
   "version": "3.8.8"
  }
 },
 "nbformat": 4,
 "nbformat_minor": 5
}
